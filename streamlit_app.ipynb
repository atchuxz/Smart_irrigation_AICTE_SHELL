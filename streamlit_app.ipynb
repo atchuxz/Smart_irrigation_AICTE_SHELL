{
  "nbformat": 4,
  "nbformat_minor": 0,
  "metadata": {
    "colab": {
      "provenance": []
    },
    "kernelspec": {
      "name": "python3",
      "display_name": "Python 3"
    },
    "language_info": {
      "name": "python"
    }
  },
  "cells": [
    {
      "cell_type": "code",
      "execution_count": 80,
      "metadata": {
        "id": "TWG37xqougig"
      },
      "outputs": [],
      "source": [
        "# Step 1: Install streamlit and pyngrok\n",
        "!pip install streamlit pyngrok --quiet"
      ]
    },
    {
      "cell_type": "code",
      "source": [
        "!ngrok config add-authtoken 30jxZnmEH8cHTpDdLEmzCAgVrB3_4tfMj7KgibksVKqUtX7Cx"
      ],
      "metadata": {
        "colab": {
          "base_uri": "https://localhost:8080/"
        },
        "id": "imNt-KsxuoQ0",
        "outputId": "4e61f231-6121-4fba-ec6b-d1c2fdd5d10b"
      },
      "execution_count": 81,
      "outputs": [
        {
          "output_type": "stream",
          "name": "stdout",
          "text": [
            "Authtoken saved to configuration file: /root/.config/ngrok/ngrok.yml\n"
          ]
        }
      ]
    },
    {
      "cell_type": "code",
      "source": [
        "!ls"
      ],
      "metadata": {
        "colab": {
          "base_uri": "https://localhost:8080/"
        },
        "id": "nLVE9hTm1pZV",
        "outputId": "5ba8de50-27d6-4459-c8ee-394cd255d135"
      },
      "execution_count": 82,
      "outputs": [
        {
          "output_type": "stream",
          "name": "stdout",
          "text": [
            "app.py\tFarm_Irrigation_System.pkl  irrigation_machine.csv  sample_data\n"
          ]
        }
      ]
    },
    {
      "cell_type": "code",
      "source": [
        "!cp /mnt/data/app.py .\n"
      ],
      "metadata": {
        "colab": {
          "base_uri": "https://localhost:8080/"
        },
        "id": "FT74dEK41w6K",
        "outputId": "bfdb4282-2334-4d0e-def4-7766706d6a0f"
      },
      "execution_count": 83,
      "outputs": [
        {
          "output_type": "stream",
          "name": "stdout",
          "text": [
            "cp: cannot stat '/mnt/data/app.py': No such file or directory\n"
          ]
        }
      ]
    },
    {
      "cell_type": "code",
      "source": [
        "!streamlit run app.py &> streamlit_log.txt &\n"
      ],
      "metadata": {
        "id": "vn2Y6qrc17V3"
      },
      "execution_count": 84,
      "outputs": []
    },
    {
      "cell_type": "code",
      "source": [
        "from pyngrok import ngrok\n",
        "ngrok.kill()\n",
        "\n",
        "public_url = ngrok.connect(addr=\"8501\", proto=\"http\")\n",
        "print(f\"🚀 Streamlit app is live at: {public_url}\")\n"
      ],
      "metadata": {
        "colab": {
          "base_uri": "https://localhost:8080/"
        },
        "id": "mOcpysM1utWv",
        "outputId": "da30d4c9-523a-41d4-d7e7-69c4efda9d96"
      },
      "execution_count": 85,
      "outputs": [
        {
          "output_type": "stream",
          "name": "stdout",
          "text": [
            "🚀 Streamlit app is live at: NgrokTunnel: \"https://5b8f183f27de.ngrok-free.app\" -> \"http://localhost:8501\"\n"
          ]
        }
      ]
    },
    {
      "cell_type": "code",
      "source": [
        "!tail -n 40 streamlit_log.txt\n"
      ],
      "metadata": {
        "id": "HYQwF44syLo7"
      },
      "execution_count": 86,
      "outputs": []
    },
    {
      "cell_type": "code",
      "source": [],
      "metadata": {
        "id": "M3ZcOMV-0nVU"
      },
      "execution_count": 86,
      "outputs": []
    }
  ]
}